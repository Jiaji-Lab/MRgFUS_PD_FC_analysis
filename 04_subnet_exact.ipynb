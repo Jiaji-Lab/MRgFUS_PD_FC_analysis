{
 "cells": [
  {
   "cell_type": "markdown",
   "metadata": {},
   "source": [
    "# subnetwork extract"
   ]
  },
  {
   "cell_type": "code",
   "execution_count": 12,
   "metadata": {},
   "outputs": [],
   "source": [
    "# for cicos\r\n",
    "from PDdatasets.subject import load_subjects\r\n",
    "from PDutils import NBS_subnet_extract\r\n",
    "import numpy as np\r\n",
    "\r\n",
    "subjects = load_subjects(r'H:\\006pd_DTI\\02_data_management\\subject_info.csv')\r\n",
    "NBS_mat_path = r'H:\\006pd_DTI\\10_BN_nbs_bold\\02_R_wi0.3\\03base_360d-4.0.mat'\r\n",
    "out_dir = r'D:\\Desktop'\r\n",
    "\r\n",
    "subnetwork = NBS_subnet_extract.readin_NBS_subnetwork(NBS_mat_path)\r\n",
    "all_nodes_unique, row_nodes, col_nodes = NBS_subnet_extract.extract_subnetwork_nodes(subnetwork) #tuple\r\n",
    "\r\n",
    "a = subnetwork.toarray() \r\n",
    "a = a+a.T \r\n",
    "np.savetxt(os.path.join(out_dir, '{}.txt'.format(obs.args['nickname1'])), \r\n",
    "                        a, fmt='%d')"
   ]
  },
  {
   "cell_type": "code",
   "execution_count": 4,
   "metadata": {},
   "outputs": [],
   "source": [
    "from PDdatasets.subject import load_subjects\r\n",
    "from PDutils import NBS_subnet_extract\r\n",
    "import numpy as np\r\n",
    "\r\n",
    "subjects = load_subjects(r'H:\\006pd_DTI\\02_data_management\\subject_info.csv')\r\n",
    "NBS_mat_path = r'H:\\006pd_DTI\\10_BN_nbs_bold\\02_R_wi0.3\\03base_360d-4.0.mat'\r\n",
    "out_dir = r'H:\\006pd_DTI\\10_BN_nbs_bold\\02_R_wi0.3\\12_4.0base360dsubnetwork'\r\n",
    "\r\n",
    "subnetwork = NBS_subnet_extract.readin_NBS_subnetwork(NBS_mat_path)\r\n",
    "all_nodes_unique, row_nodes, col_nodes = NBS_subnet_extract.extract_subnetwork_nodes(subnetwork) #tuple\r\n",
    "\r\n",
    "for subject in subjects:\r\n",
    "    observations = subject.get_all_observation()\r\n",
    "    for obs in observations:\r\n",
    "        \r\n",
    "        matrix = np.loadtxt(obs.bold.build_path('fc_r_BN246.txt'))\r\n",
    "        sub_matrix = NBS_subnet_extract.extract_submatrix(matrix, all_nodes_unique)\r\n",
    "        np.savetxt(os.path.join(out_dir, '{}.txt'.format(obs.args['nickname1'])), \r\n",
    "                        sub_matrix, fmt='%.6f')"
   ]
  }
 ],
 "metadata": {
  "kernelspec": {
   "display_name": "Python 3.7.9 64-bit ('autumor': conda)",
   "name": "python379jvsc74a57bd00c8ebedb10770ad3cfbb1339130ad0ca85ac6b722949909b909841f98b023341"
  },
  "language_info": {
   "name": "python",
   "version": ""
  },
  "orig_nbformat": 2
 },
 "nbformat": 4,
 "nbformat_minor": 2
}