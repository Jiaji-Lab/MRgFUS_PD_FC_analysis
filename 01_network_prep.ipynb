{
 "cells": [
  {
   "cell_type": "markdown",
   "metadata": {},
   "source": [
    "# network matrix flip"
   ]
  },
  {
   "cell_type": "code",
   "execution_count": 4,
   "metadata": {},
   "outputs": [],
   "source": [
    "import os\r\n",
    "import numpy as np\r\n",
    "from PDdatasets.subject import load_subjects\r\n",
    "\r\n",
    "def exchange_matrix(ori_path, backup_path, fmt='%10f'):\r\n",
    "    if not os.path.exists(backup_path):\r\n",
    "        os.rename(ori_path, backup_path)\r\n",
    "    array = np.loadtxt(backup_path, dtype=np.float32)\r\n",
    "    for i in range(0, 246, 2):\r\n",
    "        array[:,[i, i+1]] = array[:,[i+1, i]]\r\n",
    "        array[[i, i+1], :] = array[[i+1, i], :]\r\n",
    "    np.savetxt(ori_path, array, fmt=fmt)\r\n",
    "\r\n",
    "subjects = load_subjects(r'H:\\006pd_DTI\\02_data_management\\subject_info.csv')\r\n",
    "\r\n",
    "for subject in subjects:\r\n",
    "    for obs in subject.get_all_observation():\r\n",
    "        bold_post = obs.bold\r\n",
    "        if obs.lesion_side == 'right':\r\n",
    "            # exchange fc_r_BN246\r\n",
    "            ori_path = bold_post.build_path('fc_r_BN246.txt', use_mark=False)\r\n",
    "            backup_path = bold_post.build_path('fc_r_BN246_backup.txt', use_mark=False)\r\n",
    "            exchange_matrix(ori_path, backup_path, fmt='%.6f')\r\n",
    "            # exchange fc_z_BN246\r\n",
    "            ori_path = bold_post.build_path('fc_z_BN246.txt', use_mark=False)\r\n",
    "            backup_path = bold_post.build_path('fc_z_BN246_backup.txt', use_mark=False)\r\n",
    "            exchange_matrix(ori_path, backup_path)\r\n"
   ]
  },
  {
   "cell_type": "markdown",
   "metadata": {},
   "source": [
    "# network preprocess"
   ]
  },
  {
   "cell_type": "code",
   "execution_count": 4,
   "metadata": {},
   "outputs": [],
   "source": [
    "import numpy as np\r\n",
    "import os\r\n",
    "\r\n",
    "input_dir = r'H:\\006pd_DTI\\10_bold\\01_R'\r\n",
    "out_dir = r'H:\\006pd_DTI\\10_bold'\r\n",
    "files = os.listdir(input_dir)\r\n",
    "intensity_thres = 0.5\r\n",
    "\r\n",
    "for f in files:\r\n",
    "    array = np.loadtxt(os.path.join(input_dir, f))\r\n",
    "    abs_array = np.absolute(array)\r\n",
    "    abs_array[abs_array<intensity_thres] = 0\r\n",
    "    np.savetxt(os.path.join(out_dir, f), abs_array, fmt='%.6f') \r\n"
   ]
  }
 ],
 "metadata": {
  "kernelspec": {
   "display_name": "Python 3.7.9 64-bit ('autumor': conda)",
   "name": "python379jvsc74a57bd00c8ebedb10770ad3cfbb1339130ad0ca85ac6b722949909b909841f98b023341"
  },
  "language_info": {
   "name": "python",
   "version": ""
  },
  "orig_nbformat": 2
 },
 "nbformat": 4,
 "nbformat_minor": 2
}